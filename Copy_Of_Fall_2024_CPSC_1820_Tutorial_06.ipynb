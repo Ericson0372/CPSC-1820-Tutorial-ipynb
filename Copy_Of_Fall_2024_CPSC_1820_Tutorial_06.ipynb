{
  "nbformat": 4,
  "nbformat_minor": 0,
  "metadata": {
    "colab": {
      "provenance": [],
      "include_colab_link": true
    },
    "kernelspec": {
      "name": "python3",
      "display_name": "Python 3"
    },
    "language_info": {
      "name": "python"
    }
  },
  "cells": [
    {
      "cell_type": "markdown",
      "metadata": {
        "id": "view-in-github",
        "colab_type": "text"
      },
      "source": [
        "<a href=\"https://colab.research.google.com/github/Ericson0372/CPSC-1820-Tutorial-ipynb/blob/main/Copy_Of_Fall_2024_CPSC_1820_Tutorial_06.ipynb\" target=\"_parent\"><img src=\"https://colab.research.google.com/assets/colab-badge.svg\" alt=\"Open In Colab\"/></a>"
      ]
    },
    {
      "cell_type": "markdown",
      "source": [
        "# Relations\n",
        "\n",
        "In which we will see how to build relations in Python, we will write code to check for properties (reflexive, symmetric, transitive).\n",
        "\n",
        "A relation $R$ is subsets of a cross product defined over a set $A$, i.e. $R ⊆ A\\times A$. Let A = {1,2,3,4,5,6}.\n",
        "\n",
        "Let,\n",
        "$$R = \\{ (a,b) : \\text{a, b leave the same remainder when divided by 2}\\}$$\n",
        "\n",
        "The relation can be written in python as shown below.\n",
        "\n"
      ],
      "metadata": {
        "id": "9LbEVNkkd3AB"
      }
    },
    {
      "cell_type": "code",
      "source": [
        "A = {1,2,3,4,5,6}\n",
        "R={(x,y) for x in A for y in A if x%2==y%2}\n",
        "\n",
        "print(R)\n",
        "\n",
        "#R ={(1,1),(1,3),(1,5),(2,2),(2,4),(2,6),(3,1),(3,3),(3,5),(4,2),(4,4),(4,6),(5,1),(5,3),(5,5),(6,2),(6,4),(6,6)}"
      ],
      "metadata": {
        "id": "ZmxpxNb-oy4D",
        "colab": {
          "base_uri": "https://localhost:8080/"
        },
        "outputId": "2a7f178e-c762-4829-c98c-3e9c9437d8bc"
      },
      "execution_count": null,
      "outputs": [
        {
          "output_type": "stream",
          "name": "stdout",
          "text": [
            "{(4, 4), (2, 4), (5, 5), (6, 2), (1, 5), (3, 1), (1, 1), (4, 6), (6, 6), (5, 1), (4, 2), (6, 4), (3, 3), (2, 6), (2, 2), (5, 3), (1, 3), (3, 5)}\n"
          ]
        }
      ]
    },
    {
      "cell_type": "markdown",
      "source": [
        "**A1** Write a relation (in python) which is defined as follows:\n",
        "\n",
        "$$R_1 = \\{ (a,b) : \\text{a, b leave the same remainder when divided by 3}\\}$$\n",
        "\n"
      ],
      "metadata": {
        "id": "eZd2tLQPozht"
      }
    },
    {
      "cell_type": "code",
      "source": [
        "# write the code for relation R1 here\n",
        "#R1=\n",
        "\n",
        "#print(R1)\n",
        "\n",
        "#R1={(4, 4), (5, 5), (1, 1), (1, 4), (3, 3), (6, 3), (3, 6), (2, 2), (6, 6), (2, 5), (4, 1), (5, 2)}"
      ],
      "metadata": {
        "id": "8tHR32DQefCV"
      },
      "execution_count": null,
      "outputs": []
    },
    {
      "cell_type": "markdown",
      "source": [
        "**A2** What is $|R|$ and $|R_1|$, Explain. Write the explanation below.\n",
        "\n",
        "*Answer*"
      ],
      "metadata": {
        "id": "xUQGaeKPpDzo"
      }
    },
    {
      "cell_type": "markdown",
      "source": [
        "In the next step, we will write some code to test if the relation R is reflexive. To remind you, `R` is reflexive if for every element `a` $\\in$ `A`, the pair `(a,a)` belongs to `R`. We can perform this test by using a `for` loop and the `in` operator, as demonstrated below.\n",
        "\n",
        "We iterate over all the elements `a` in A and check if the pair `(a,a)` is present in `R`. If we encounter an `a` for which `(a,a)` is not in `R`, then the relation is not reflexive, and we will make a note of this by setting the predicate `(a,a) not in R` to `True`. If the predicate is never set to `True`, then it must retain its original value of `False`.\n",
        "\n"
      ],
      "metadata": {
        "id": "AisPUlY9grbZ"
      }
    },
    {
      "cell_type": "code",
      "source": [
        "R ={(1,1),(1,3),(1,5),(2,2),(2,4),(2,6),(3,1),(3,3),(3,5),(4,2),(4,4),(4,6),(5,1),(5,3),(5,5),(6,2),(6,4),(6,6)}\n",
        "\n",
        "predicate = False\n",
        "for a in A:\n",
        "  if (a,a) not in R:\n",
        "    predicate = True\n",
        "    print(\" R is not reflexive\")\n",
        "    break\n",
        "\n",
        "\n",
        "if (predicate == False) :\n",
        "  print(\"R is reflexive\")\n",
        "\n"
      ],
      "metadata": {
        "id": "7vP945VYg_1N",
        "colab": {
          "base_uri": "https://localhost:8080/"
        },
        "outputId": "00de84ae-3061-4e04-a066-62e5ddbaaaad"
      },
      "execution_count": null,
      "outputs": [
        {
          "output_type": "stream",
          "name": "stdout",
          "text": [
            "R is reflexive\n"
          ]
        }
      ]
    },
    {
      "cell_type": "markdown",
      "source": [
        "**A3** Your task is to write a function named `isreflexive`. The function should take two arguments: a relation and a set. The function should return True or False depending on whether the relation is reflexive or not. Write your code in the cell below."
      ],
      "metadata": {
        "id": "8XL9TbAJptfw"
      }
    },
    {
      "cell_type": "code",
      "source": [
        "def isreflexive(R, A): # R is a relation over set A.\n",
        "#write your code here modifying the above code, return True or False\n",
        "\n",
        "isreflexive(R,A)"
      ],
      "metadata": {
        "id": "wLpz4QUHfIiV"
      },
      "execution_count": null,
      "outputs": []
    },
    {
      "cell_type": "markdown",
      "source": [
        "## Symmetric relations\n",
        "\n",
        "Let $R$ and $A$ be as defined above. A relation $R$ is said to be symmetric if for any $(a,b) \\in R$, $(b,a) \\in R$ for all $a,b \\in A$ such that $a \\neq b$. It is important to note that we need not worry about the consequent in the implication if $(a,b) \\not\\in R$.\n",
        "\n",
        "We can test for symmetry using a `for` loop that iterates over the tuples in $R$ where $a$ is different from $b$. Only if $(a,b) \\in R$ do we check if $(b,a) \\in R$. The code for this is shown below, and it does not require set $A$."
      ],
      "metadata": {
        "id": "p-xKKGo_qIn6"
      }
    },
    {
      "cell_type": "code",
      "source": [
        "R ={(1,1),(1,3),(1,5),(2,2),(2,4),(2,6),(3,1),(3,3),(3,5),(4,2),(4,4),(4,6),(5,1),(5,3),(5,5),(6,2),(6,4),(6,6)}\n",
        "\n",
        "pred = False\n",
        "for (a,b) in R:\n",
        "  if (a != b) :\n",
        "    if (b,a) not in R:\n",
        "      pred = True\n",
        "      print(\"R is not symmetric\")\n",
        "      break\n",
        "\n",
        "if (pred == False):\n",
        "  print(\"R is symmetric\")"
      ],
      "metadata": {
        "id": "0_5-VQpBgJ95",
        "colab": {
          "base_uri": "https://localhost:8080/"
        },
        "outputId": "9df42800-1868-409f-b263-0e69a6d900b5"
      },
      "execution_count": null,
      "outputs": [
        {
          "output_type": "stream",
          "name": "stdout",
          "text": [
            "R is symmetric\n"
          ]
        }
      ]
    },
    {
      "cell_type": "markdown",
      "source": [
        "**A4** Once again your task is to write a function `issymmetric` which takes a single argument relation `R` and returns True if `R` is symmetric relation. It returns `False` otherwise."
      ],
      "metadata": {
        "id": "ESEEOYCmsj81"
      }
    },
    {
      "cell_type": "code",
      "source": [
        "R ={(1,1),(1,3),(1,5),(2,2),(2,4),(2,6),(3,1),(3,3),(3,5),(4,2),(4,6),(5,1),(5,3),(6,2)}\n",
        "\n",
        "def issymmetric(R): # R is the relation\n",
        "#write your code here modifying the above code, return True or False\n",
        "\n",
        "issymmetric(R)"
      ],
      "metadata": {
        "id": "zVw6_7IWgLhw"
      },
      "execution_count": null,
      "outputs": []
    },
    {
      "cell_type": "markdown",
      "source": [
        "## Transitive Relations\n",
        "\n",
        "Let's recall the definition of a transitive relation. A relation is transitive if for all $a$, $b$, and $c \\in A$, the following condition holds true:\n",
        "\n",
        "$$(a,b) \\in R \\wedge (b,c) \\in R \\implies (a,c) \\in R$$\n",
        "\n",
        "To check if a relation is transitive or not, we use two for loops to iterate over the tuples in the relation. Suppose the two tuples are `(a,b)` and `(c,d)`. We first check if `b` is equal to `c`. If it is, we then check if `(a,d)` is in the relation. If `(a,d)` is not in the relation, then the relation is not transitive.\n",
        "\n",
        "We do not need to check if `a` is not equal to `b`. If `(a,a)` and `(a,c)` are in the relation, then `(a,c)` is also in the relation. The same logic applies to `b` and `d`.\n",
        "\n",
        "The code is below."
      ],
      "metadata": {
        "id": "s_cnyEjAtjkd"
      }
    },
    {
      "cell_type": "code",
      "source": [
        "R = {(1,2),(2,3),(1,3)}\n",
        "\n",
        "def istransitive(R):\n",
        "  for (a,b) in R:\n",
        "    for (c,d) in R:\n",
        "      print((a,b),(c,d), b==c, (a,d))\n",
        "      if b == c and (a,d) not in R:\n",
        "        return False\n",
        "  return True\n",
        "\n",
        "istransitive(R)"
      ],
      "metadata": {
        "id": "f6GBWjO1tRiq",
        "colab": {
          "base_uri": "https://localhost:8080/"
        },
        "outputId": "44a78ff6-8a47-4e4c-8b80-7b76ab411667"
      },
      "execution_count": null,
      "outputs": [
        {
          "output_type": "stream",
          "name": "stdout",
          "text": [
            "(2, 3) (2, 3) False (2, 3)\n",
            "(2, 3) (1, 2) False (2, 2)\n",
            "(2, 3) (1, 3) False (2, 3)\n",
            "(1, 2) (2, 3) True (1, 3)\n",
            "(1, 2) (1, 2) False (1, 2)\n",
            "(1, 2) (1, 3) False (1, 3)\n",
            "(1, 3) (2, 3) False (1, 3)\n",
            "(1, 3) (1, 2) False (1, 2)\n",
            "(1, 3) (1, 3) False (1, 3)\n"
          ]
        },
        {
          "output_type": "execute_result",
          "data": {
            "text/plain": [
              "True"
            ]
          },
          "metadata": {},
          "execution_count": 3
        }
      ]
    },
    {
      "cell_type": "markdown",
      "source": [
        "**A5** Explain what the code does (you may use an example) and argue that it works correctly on every input. Write your explanation below.\n",
        "\n",
        "*Answer:*"
      ],
      "metadata": {
        "id": "TxMCjgsmrrlU"
      }
    },
    {
      "cell_type": "markdown",
      "source": [
        "## Exercises\n",
        "\n",
        "**A6** Use the function/code from above to write functions to check if a given relation is\n",
        "\n",
        "+ antisymmetric\n",
        "+ an equivalence relation\n",
        "+ a partial order"
      ],
      "metadata": {
        "id": "NtNTSFHA9I0h"
      }
    },
    {
      "cell_type": "code",
      "source": [
        "R1={(1,1),(1,3),(1,2),(3,3)} #True\n",
        "R2={(1,1),(1,3),(3,1),(3,3)} #False\n",
        "\n",
        "def isantisymmetric(R):\n",
        "  # return True if R is antisymmetric, False otherwise\n",
        "  #write your code here\n",
        "\n",
        "#print(isantisymmetric(R1))\n",
        "#print(isantisymmetric(R2))"
      ],
      "metadata": {
        "id": "dO0ORAvP9WbL"
      },
      "execution_count": null,
      "outputs": []
    },
    {
      "cell_type": "code",
      "source": [
        "A = {1,2,3,4,5,6}\n",
        "R1 ={(1,1),(1,3),(1,5),(2,2),(2,4),(2,6),(3,3),(3,5),(4,2),(4,6),(5,1),(5,3),(6,2)} #False\n",
        "R2 =R={(x,y) for x in A for y in A if x%2==y%2} #True\n",
        "\n",
        "def isequivalence(R):\n",
        "# check the three conditions (reflexive, symmetric and transitive)\n",
        "# write your code here\n",
        "\n",
        "#print(isequivalence(R1))\n",
        "#print(isequivalence(R2))\n",
        "\n"
      ],
      "metadata": {
        "id": "0FJWulEI9ih1",
        "colab": {
          "base_uri": "https://localhost:8080/"
        },
        "outputId": "a70329ed-9379-419e-8398-c0267b137d8a"
      },
      "execution_count": null,
      "outputs": [
        {
          "output_type": "stream",
          "name": "stdout",
          "text": [
            "0\n"
          ]
        }
      ]
    },
    {
      "cell_type": "code",
      "source": [
        "R1 ={(1,1),(1,3),(1,5),(2,2),(2,4),(2,6),(3,3),(3,5),(4,2),(4,6),(5,1),(5,3),(6,2)} #False\n",
        "R2={(1,1),(1,3),(3,1),(3,3)} #True\n",
        "\n",
        "def ispartialorder(R):\n",
        "# write your code here\n",
        "# check reflexive, antisymmetric and transitive condition\n",
        "\n",
        "\n",
        "#print(ispartialorder(R1))\n",
        "#print(ispartialorder(R2))\n"
      ],
      "metadata": {
        "id": "10Q2Up4g9p_i"
      },
      "execution_count": null,
      "outputs": []
    }
  ]
}