{
  "cells": [
    {
      "cell_type": "markdown",
      "metadata": {
        "colab_type": "text",
        "id": "view-in-github"
      },
      "source": [
        "<a href=\"https://colab.research.google.com/github/Ericson0372/CPSC-1820-Tutorial-ipynb/blob/main/Copy_Of_Fall_2024_CPSC_1820_Tutorial_06.ipynb\" target=\"_parent\"><img src=\"https://colab.research.google.com/assets/colab-badge.svg\" alt=\"Open In Colab\"/></a>"
      ]
    },
    {
      "cell_type": "markdown",
      "metadata": {
        "id": "9LbEVNkkd3AB"
      },
      "source": [
        "# Relations\n",
        "\n",
        "In which we will see how to build relations in Python, we will write code to check for properties (reflexive, symmetric, transitive).\n",
        "\n",
        "A relation $R$ is subsets of a cross product defined over a set $A$, i.e. $R ⊆ A\\times A$. Let A = {1,2,3,4,5,6}.\n",
        "\n",
        "Let,\n",
        "$$R = \\{ (a,b) : \\text{a, b leave the same remainder when divided by 2}\\}$$\n",
        "\n",
        "The relation can be written in python as shown below.\n",
        "\n"
      ]
    },
    {
      "cell_type": "code",
      "execution_count": 2,
      "metadata": {
        "colab": {
          "base_uri": "https://localhost:8080/"
        },
        "id": "ZmxpxNb-oy4D",
        "outputId": "2a7f178e-c762-4829-c98c-3e9c9437d8bc"
      },
      "outputs": [
        {
          "name": "stdout",
          "output_type": "stream",
          "text": [
            "{(4, 4), (2, 4), (5, 5), (6, 2), (1, 5), (3, 1), (1, 1), (4, 6), (6, 6), (5, 1), (4, 2), (6, 4), (3, 3), (2, 6), (2, 2), (5, 3), (1, 3), (3, 5)}\n"
          ]
        }
      ],
      "source": [
        "A = {1,2,3,4,5,6}\n",
        "R={(x,y) for x in A for y in A if x%2==y%2}\n",
        "\n",
        "print(R)\n",
        "\n",
        "#R ={(1,1),(1,3),(1,5),(2,2),(2,4),(2,6),(3,1),(3,3),(3,5),(4,2),(4,4),(4,6),(5,1),(5,3),(5,5),(6,2),(6,4),(6,6)}"
      ]
    },
    {
      "cell_type": "markdown",
      "metadata": {
        "id": "eZd2tLQPozht"
      },
      "source": [
        "**A1** Write a relation (in python) which is defined as follows:\n",
        "\n",
        "$$R_1 = \\{ (a,b) : \\text{a, b leave the same remainder when divided by 3}\\}$$\n",
        "\n"
      ]
    },
    {
      "cell_type": "code",
      "execution_count": 3,
      "metadata": {
        "id": "8tHR32DQefCV"
      },
      "outputs": [
        {
          "name": "stdout",
          "output_type": "stream",
          "text": [
            "{(4, 4), (5, 5), (1, 1), (1, 4), (3, 3), (6, 3), (3, 6), (2, 2), (6, 6), (2, 5), (4, 1), (5, 2)}\n"
          ]
        }
      ],
      "source": [
        "# write the code for relation R1 here\n",
        "R1= {(a,b) for a in A for b in A if a%3==b%3}\n",
        "\n",
        "print(R1)\n",
        "\n",
        "#R1={(4, 4), (5, 5), (1, 1), (1, 4), (3, 3), (6, 3), (3, 6), (2, 2), (6, 6), (2, 5), (4, 1), (5, 2)}"
      ]
    },
    {
      "cell_type": "code",
      "execution_count": 5,
      "metadata": {},
      "outputs": [
        {
          "name": "stdout",
          "output_type": "stream",
          "text": [
            "18\n",
            "12\n"
          ]
        }
      ],
      "source": [
        "print(R.__len__())\n",
        "print(R1.__len__())"
      ]
    },
    {
      "cell_type": "markdown",
      "metadata": {
        "id": "xUQGaeKPpDzo"
      },
      "source": [
        "**A2** What is $|R|$ and $|R_1|$, Explain. Write the explanation below.\n",
        "\n",
        "$|R|$ = 18\n",
        "$|R_1|$ = 12\n",
        "\n",
        "Given that we have Set A the relation R defined on the code cell states that the two ordered pair values must have the same reminder when dividing by three which is done by using the modulo operator. We can partition set A by seperating the elements by even and odd numbers of set A even = {2,4,6} and odd = {1,3,5}. In the case of even numbers {2,4,6} satisfies `a`,`b` $\\in$ `R`, to which |even| = 3. In the case of odd numbers {1,3,5} also satisfies `a`,`b` $\\in$ `R`. to which |odd| = 3. So `|even|*|R = {(a,b) | a and b leave the same remainder when divided by 2 and even numbers}| = 3 * 3 = 9 pairs`. The same applies to odd numbers, which leaves 9 pairs, therefore the total number of pairs from the relation `R` = 9+9 = 18. In the case of relation R1, using the modulo operator we have seperate the elements into three: Elements that have the remainder of 0,1,2. In "
      ]
    },
    {
      "cell_type": "markdown",
      "metadata": {
        "id": "AisPUlY9grbZ"
      },
      "source": [
        "In the next step, we will write some code to test if the relation R is reflexive. To remind you, `R` is reflexive if for every element `a` $\\in$ `A`, the pair `(a,a)` belongs to `R`. We can perform this test by using a `for` loop and the `in` operator, as demonstrated below.\n",
        "\n",
        "We iterate over all the elements `a` in A and check if the pair `(a,a)` is present in `R`. If we encounter an `a` for which `(a,a)` is not in `R`, then the relation is not reflexive, and we will make a note of this by setting the predicate `(a,a) not in R` to `True`. If the predicate is never set to `True`, then it must retain its original value of `False`.\n",
        "\n",
        "\n"
      ]
    },
    {
      "cell_type": "code",
      "execution_count": 9,
      "metadata": {
        "colab": {
          "base_uri": "https://localhost:8080/"
        },
        "id": "7vP945VYg_1N",
        "outputId": "00de84ae-3061-4e04-a066-62e5ddbaaaad"
      },
      "outputs": [
        {
          "name": "stdout",
          "output_type": "stream",
          "text": [
            "R is reflexive\n"
          ]
        }
      ],
      "source": [
        "R ={(1,1),(1,3),(1,5),(2,2),(2,4),(2,6),(3,1),(3,3),(3,5),(4,2),(4,4),(4,6),(5,1),(5,3),(5,5),(6,2),(6,4),(6,6)}\n",
        "\n",
        "predicate = False\n",
        "for a in A:\n",
        "  if (a,a) not in R:\n",
        "    predicate = True\n",
        "    print(\" R is not reflexive\")\n",
        "    break\n",
        "\n",
        "\n",
        "if (predicate == False) :\n",
        "  print(\"R is reflexive\")\n",
        "\n"
      ]
    },
    {
      "cell_type": "markdown",
      "metadata": {
        "id": "8XL9TbAJptfw"
      },
      "source": [
        "**A3** Your task is to write a function named `isreflexive`. The function should take two arguments: a relation and a set. The function should return True or False depending on whether the relation is reflexive or not. Write your code in the cell below."
      ]
    },
    {
      "cell_type": "code",
      "execution_count": null,
      "metadata": {
        "id": "wLpz4QUHfIiV"
      },
      "outputs": [],
      "source": [
        "def isreflexive(R, A): # R is a relation over set A.\n",
        "#write your code here modifying the above code, return True or False\n",
        "    retBool = False\n",
        "    for a in A:\n",
        "        if (a,a) in R:\n",
        "            retBool = True\n",
        "            break #we can also find and return the ordered pair as well as the amount of times it was found comparing the relation and set\n",
        "    return retBool \n",
        "\n",
        "isreflexive(R,A)"
      ]
    },
    {
      "cell_type": "markdown",
      "metadata": {
        "id": "p-xKKGo_qIn6"
      },
      "source": [
        "## Symmetric relations\n",
        "\n",
        "Let $R$ and $A$ be as defined above. A relation $R$ is said to be symmetric if for any $(a,b) \\in R$, $(b,a) \\in R$ for all $a,b \\in A$ such that $a \\neq b$. It is important to note that we need not worry about the consequent in the implication if $(a,b) \\not\\in R$.\n",
        "\n",
        "We can test for symmetry using a `for` loop that iterates over the tuples in $R$ where $a$ is different from $b$. Only if $(a,b) \\in R$ do we check if $(b,a) \\in R$. The code for this is shown below, and it does not require set $A$."
      ]
    },
    {
      "cell_type": "code",
      "execution_count": null,
      "metadata": {
        "colab": {
          "base_uri": "https://localhost:8080/"
        },
        "id": "0_5-VQpBgJ95",
        "outputId": "9df42800-1868-409f-b263-0e69a6d900b5"
      },
      "outputs": [
        {
          "name": "stdout",
          "output_type": "stream",
          "text": [
            "R is symmetric\n"
          ]
        }
      ],
      "source": [
        "R ={(1,1),(1,3),(1,5),(2,2),(2,4),(2,6),(3,1),(3,3),(3,5),(4,2),(4,4),(4,6),(5,1),(5,3),(5,5),(6,2),(6,4),(6,6)}\n",
        "\n",
        "pred = False\n",
        "for (a,b) in R:\n",
        "  if (a != b) :\n",
        "    if (b,a) not in R:\n",
        "      pred = True\n",
        "      print(\"R is not symmetric\")\n",
        "      break\n",
        "\n",
        "if (pred == False):\n",
        "  print(\"R is symmetric\")"
      ]
    },
    {
      "cell_type": "markdown",
      "metadata": {
        "id": "ESEEOYCmsj81"
      },
      "source": [
        "**A4** Once again your task is to write a function `issymmetric` which takes a single argument relation `R` and returns True if `R` is symmetric relation. It returns `False` otherwise."
      ]
    },
    {
      "cell_type": "code",
      "execution_count": null,
      "metadata": {
        "id": "zVw6_7IWgLhw"
      },
      "outputs": [],
      "source": [
        "R ={(1,1),(1,3),(1,5),(2,2),(2,4),(2,6),(3,1),(3,3),(3,5),(4,2),(4,6),(5,1),(5,3),(6,2)}\n",
        "\n",
        "def issymmetric(R): # R is the relation\n",
        "#write your code here modifying the above code, return True or False\n",
        "\n",
        "issymmetric(R)"
      ]
    },
    {
      "cell_type": "markdown",
      "metadata": {
        "id": "s_cnyEjAtjkd"
      },
      "source": [
        "## Transitive Relations\n",
        "\n",
        "Let`s recall the definition of a transitive relation. A relation is transitive if for all $a$, $b$, and $c \\in A$, the following condition holds true:\n",
        "\n",
        "$$(a,b) \\in R \\wedge (b,c) \\in R \\implies (a,c) \\in R$$\n",
        "\n",
        "To check if a relation is transitive or not, we use two for loops to iterate over the tuples in the relation. Suppose the two tuples are `(a,b)` and `(c,d)`. We first check if `b` is equal to `c`. If it is, we then check if `(a,d)` is in the relation. If `(a,d)` is not in the relation, then the relation is not transitive.\n",
        "\n",
        "We do not need to check if `a` is not equal to `b`. If `(a,a)` and `(a,c)` are in the relation, then `(a,c)` is also in the relation. The same logic applies to `b` and `d`.\n",
        "\n",
        "The code is below."
      ]
    },
    {
      "cell_type": "code",
      "execution_count": null,
      "metadata": {
        "colab": {
          "base_uri": "https://localhost:8080/"
        },
        "id": "f6GBWjO1tRiq",
        "outputId": "44a78ff6-8a47-4e4c-8b80-7b76ab411667"
      },
      "outputs": [
        {
          "name": "stdout",
          "output_type": "stream",
          "text": [
            "(2, 3) (2, 3) False (2, 3)\n",
            "(2, 3) (1, 2) False (2, 2)\n",
            "(2, 3) (1, 3) False (2, 3)\n",
            "(1, 2) (2, 3) True (1, 3)\n",
            "(1, 2) (1, 2) False (1, 2)\n",
            "(1, 2) (1, 3) False (1, 3)\n",
            "(1, 3) (2, 3) False (1, 3)\n",
            "(1, 3) (1, 2) False (1, 2)\n",
            "(1, 3) (1, 3) False (1, 3)\n"
          ]
        },
        {
          "data": {
            "text/plain": [
              "True"
            ]
          },
          "execution_count": 3,
          "metadata": {},
          "output_type": "execute_result"
        }
      ],
      "source": [
        "R = {(1,2),(2,3),(1,3)}\n",
        "\n",
        "def istransitive(R):\n",
        "  for (a,b) in R:\n",
        "    for (c,d) in R:\n",
        "      print((a,b),(c,d), b==c, (a,d))\n",
        "      if b == c and (a,d) not in R:\n",
        "        return False\n",
        "  return True\n",
        "\n",
        "istransitive(R)"
      ]
    },
    {
      "cell_type": "markdown",
      "metadata": {
        "id": "TxMCjgsmrrlU"
      },
      "source": [
        "**A5** Explain what the code does (you may use an example) and argue that it works correctly on every input. Write your explanation below.\n",
        "\n",
        "*Answer:*"
      ]
    },
    {
      "cell_type": "markdown",
      "metadata": {
        "id": "NtNTSFHA9I0h"
      },
      "source": [
        "## Exercises\n",
        "\n",
        "**A6** Use the function/code from above to write functions to check if a given relation is\n",
        "\n",
        "+ antisymmetric\n",
        "+ an equivalence relation\n",
        "+ a partial order"
      ]
    },
    {
      "cell_type": "code",
      "execution_count": null,
      "metadata": {
        "id": "dO0ORAvP9WbL"
      },
      "outputs": [],
      "source": [
        "R1={(1,1),(1,3),(1,2),(3,3)} #True\n",
        "R2={(1,1),(1,3),(3,1),(3,3)} #False\n",
        "\n",
        "def isantisymmetric(R):\n",
        "  # return True if R is antisymmetric, False otherwise\n",
        "  #write your code here\n",
        "\n",
        "#print(isantisymmetric(R1))\n",
        "#print(isantisymmetric(R2))"
      ]
    },
    {
      "cell_type": "code",
      "execution_count": null,
      "metadata": {
        "colab": {
          "base_uri": "https://localhost:8080/"
        },
        "id": "0FJWulEI9ih1",
        "outputId": "a70329ed-9379-419e-8398-c0267b137d8a"
      },
      "outputs": [
        {
          "name": "stdout",
          "output_type": "stream",
          "text": [
            "0\n"
          ]
        }
      ],
      "source": [
        "A = {1,2,3,4,5,6}\n",
        "R1 ={(1,1),(1,3),(1,5),(2,2),(2,4),(2,6),(3,3),(3,5),(4,2),(4,6),(5,1),(5,3),(6,2)} #False\n",
        "R2 =R={(x,y) for x in A for y in A if x%2==y%2} #True\n",
        "\n",
        "def isequivalence(R):\n",
        "# check the three conditions (reflexive, symmetric and transitive)\n",
        "# write your code here\n",
        "\n",
        "#print(isequivalence(R1))\n",
        "#print(isequivalence(R2))\n",
        "\n"
      ]
    },
    {
      "cell_type": "code",
      "execution_count": null,
      "metadata": {
        "id": "10Q2Up4g9p_i"
      },
      "outputs": [],
      "source": [
        "R1 ={(1,1),(1,3),(1,5),(2,2),(2,4),(2,6),(3,3),(3,5),(4,2),(4,6),(5,1),(5,3),(6,2)} #False\n",
        "R2={(1,1),(1,3),(3,1),(3,3)} #True\n",
        "\n",
        "def ispartialorder(R):\n",
        "# write your code here\n",
        "# check reflexive, antisymmetric and transitive condition\n",
        "\n",
        "\n",
        "#print(ispartialorder(R1))\n",
        "#print(ispartialorder(R2))\n"
      ]
    }
  ],
  "metadata": {
    "colab": {
      "include_colab_link": true,
      "provenance": []
    },
    "kernelspec": {
      "display_name": "Python 3",
      "name": "python3"
    },
    "language_info": {
      "codemirror_mode": {
        "name": "ipython",
        "version": 3
      },
      "file_extension": ".py",
      "mimetype": "text/x-python",
      "name": "python",
      "nbconvert_exporter": "python",
      "pygments_lexer": "ipython3",
      "version": "3.12.7"
    }
  },
  "nbformat": 4,
  "nbformat_minor": 0
}
