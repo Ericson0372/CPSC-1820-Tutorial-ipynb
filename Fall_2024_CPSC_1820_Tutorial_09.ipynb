{
  "nbformat": 4,
  "nbformat_minor": 0,
  "metadata": {
    "colab": {
      "provenance": [],
      "include_colab_link": true
    },
    "kernelspec": {
      "name": "python3",
      "display_name": "Python 3"
    },
    "language_info": {
      "name": "python"
    }
  },
  "cells": [
    {
      "cell_type": "markdown",
      "metadata": {
        "id": "view-in-github",
        "colab_type": "text"
      },
      "source": [
        "<a href=\"https://colab.research.google.com/github/Ericson0372/CPSC-1820-Tutorial-ipynb/blob/main/Fall_2024_CPSC_1820_Tutorial_09.ipynb\" target=\"_parent\"><img src=\"https://colab.research.google.com/assets/colab-badge.svg\" alt=\"Open In Colab\"/></a>"
      ]
    },
    {
      "cell_type": "markdown",
      "source": [
        "# Algorithms for Numbers\n",
        "\n",
        "We look at basic algorithms for integer division, gcd computation, fast exponentiation and it's extension to modular exponentiation.\n",
        "\n",
        "We know from the discussion in the class that each integer $n$ can be uniquely represented as\n",
        "\n",
        "$$n = qd + r$$\n",
        "\n",
        "for any divisior $d$, where the remainder $r$ is positive and stricly less than $d$. If $n> 0$ we can use repeated subtraction to find the divisor and the remainder. If $n$ is negative (and $d$ is positive) then we can use repeated addition of $d$ to $n$ to compute the divisor and the remainder. As shown in the code below.\n",
        "\n"
      ],
      "metadata": {
        "id": "vO89N3uxZ0_v"
      }
    },
    {
      "cell_type": "code",
      "source": [
        "# n < 0\n",
        "\n",
        "def intdiv(n,d) :\n",
        "  if (n >= 0) :\n",
        "      raise ValueError(\"n should be a negative integer.\")\n",
        "\n",
        "  q = 0\n",
        "  r = n\n",
        "  while (r < 0) :\n",
        "    r = r + d\n",
        "    q -= 1\n",
        "\n",
        "  return (q,r)        # return the quotient and the remainder as a 2-tuple.\n",
        "\n",
        "\n"
      ],
      "metadata": {
        "id": "bOyI0n3ea6m3"
      },
      "execution_count": null,
      "outputs": []
    },
    {
      "cell_type": "code",
      "source": [
        "intdiv(-74, 11)"
      ],
      "metadata": {
        "id": "weQprlK1byg5"
      },
      "execution_count": null,
      "outputs": []
    },
    {
      "cell_type": "markdown",
      "source": [
        "## Question 1:\n",
        "\n",
        "Your task is to analyze the complexity of the integer division algorithm given above. Use the ideas from Chapter 6 (on analysis of algorithms).\n",
        "\n",
        "+ Identify the basic operation.\n",
        "+ What is the size of the input. Would you use the magnitude of $n$ or the number of bits needed to represent $n$ as the input size, and why?\n",
        "+ Estimate the number of times the basic opearation is executed in the worst-case as the function of the input size.\n",
        "\n"
      ],
      "metadata": {
        "id": "1Dby9oMhbrcz"
      }
    },
    {
      "cell_type": "markdown",
      "source": [
        "**Write your answer in the space below.**"
      ],
      "metadata": {
        "id": "hpdwt7up496p"
      }
    },
    {
      "cell_type": "markdown",
      "source": [
        "## Question 2:\n",
        "\n",
        "Modify the code (shown above) so that it works always. Assume $d$ is positive, and $n$ is either negative or positive."
      ],
      "metadata": {
        "id": "lIPNaT2Z5EP6"
      }
    },
    {
      "cell_type": "code",
      "source": [
        "# Write and test our code here for Question 2.\n",
        "# call your function intdiv2\n",
        "def intdiv2(n, d):\n",
        "\n"
      ],
      "metadata": {
        "id": "tZPjCVAicvxy"
      },
      "execution_count": null,
      "outputs": []
    },
    {
      "cell_type": "code",
      "source": [
        "# test on\n",
        "intdiv2(-13, 11)"
      ],
      "metadata": {
        "id": "EL_adXmjm_zz"
      },
      "execution_count": null,
      "outputs": []
    },
    {
      "cell_type": "markdown",
      "source": [
        "# Euler's algorithm for computing GCD\n",
        "\n",
        "We saw the following basic relationship in the class\n",
        "$$GCD(x,y) = GCD(y \\mod x, x)$$ This relationship gives use the following recursive code."
      ],
      "metadata": {
        "id": "X_qlv3pddQZC"
      }
    },
    {
      "cell_type": "code",
      "source": [
        "# x <= y\n",
        "def gcd(x, y):\n",
        "  if (x == 0) :\n",
        "    return y\n",
        "  return gcd(y % x, x)"
      ],
      "metadata": {
        "id": "uf1JSBUfI_cJ"
      },
      "execution_count": null,
      "outputs": []
    },
    {
      "cell_type": "code",
      "source": [
        "gcd(102, 72)"
      ],
      "metadata": {
        "id": "cKy69lIykjd5"
      },
      "execution_count": null,
      "outputs": []
    },
    {
      "cell_type": "markdown",
      "source": [
        "We will write iterative code (using `while`) to find GCD. There are three number involved in this computation, $x,y,r$ where $r = y \\mod x$. If the values of $x,y,r$ in iteration $i$ are denoted $x_i, y_i, r_i$ then in the next iteration $i+1$, the values of $x,y$ are $r_i, x_i$ and $r$ has to be recomputed given the new values of $x,y$.\n",
        "\n",
        "The code which implements this strategy is shown below. The order in which we update $x,y,r$ (inside the while loop) matters. The code assumes that $ x \\le y$."
      ],
      "metadata": {
        "id": "aNedx2L9JktL"
      }
    },
    {
      "cell_type": "code",
      "source": [
        "def gcd(x, y) : # x <= y\n",
        "  r = y % x\n",
        "  while (r != 0) :\n",
        "    print(x,y,r)\n",
        "    y = x\n",
        "    x = r\n",
        "    r = y % x\n",
        "\n",
        "  return x\n",
        "\n",
        "gcd(72, 102)"
      ],
      "metadata": {
        "id": "NqpRMxJjef1-"
      },
      "execution_count": null,
      "outputs": []
    },
    {
      "cell_type": "markdown",
      "source": [
        "Your task is two fold:\n",
        "## Question 3:\n",
        "\n",
        "Modify the code below so that it works even when $x> y$. Write an explanation of why the code computes the GCD (argue for it's correctness)."
      ],
      "metadata": {
        "id": "esnpjlW1J_yH"
      }
    },
    {
      "cell_type": "code",
      "source": [
        "# write your modified code here\n",
        "def gcd2(x, y):"
      ],
      "metadata": {
        "id": "cQr5gknsKtlF"
      },
      "execution_count": null,
      "outputs": []
    },
    {
      "cell_type": "code",
      "source": [
        "# Test the function\n",
        "print(gcd2(123, 25))  # Should print 1 as the GCD\n"
      ],
      "metadata": {
        "id": "y2BHAUWfoqq5"
      },
      "execution_count": null,
      "outputs": []
    },
    {
      "cell_type": "markdown",
      "source": [
        "**Write your explanation here**"
      ],
      "metadata": {
        "id": "WzUprLjBKxYp"
      }
    },
    {
      "cell_type": "markdown",
      "source": [
        "## Question 4:\n",
        "\n",
        "Run the code when $x=F(10)$ and $y=F(11)$, where $F(i)$ is the i^th Fibonacci number. Do you see a pattern? Explain the pattern that you observed. Will it be observed for $x=F(n), y=(F(n+1)$?\n",
        "\n",
        "This sequence of inputs gives us a lower bound on the number of iterations executed inside the `while` loop. To describe this lower bound\n",
        "+ identify the input size; the magnitude of the nth Fibonacci number.\n",
        "+ Descibe the number of iteration as a function of the magnitude of the nth Fibonacci number.\n",
        "\n",
        "In the class we saw that $O(\\log{n})$ iterations are sufficient for number of maginutde $2^n$. The instances discussed here, tell us that the analsysis done in the class was right (we use $\\Theta()$, instead of $O()$)\n"
      ],
      "metadata": {
        "id": "QEA1Yci-LOPy"
      }
    },
    {
      "cell_type": "markdown",
      "source": [
        "**Write your answer for question 4 here**"
      ],
      "metadata": {
        "id": "hi9rO3WvLkcV"
      }
    }
  ]
}