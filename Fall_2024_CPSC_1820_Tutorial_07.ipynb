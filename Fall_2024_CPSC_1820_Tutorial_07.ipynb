{
 "cells": [
  {
   "cell_type": "markdown",
   "metadata": {
    "colab_type": "text",
    "id": "view-in-github"
   },
   "source": [
    "<a href=\"https://colab.research.google.com/github/Ericson0372/CPSC-1820-Tutorial-ipynb/blob/main/Fall_2024_CPSC_1820_Tutorial_07.ipynb\" target=\"_parent\"><img src=\"https://colab.research.google.com/assets/colab-badge.svg\" alt=\"Open In Colab\"/></a>"
   ]
  },
  {
   "cell_type": "code",
   "execution_count": null,
   "metadata": {
    "id": "NiO_7gQUrXpU"
   },
   "outputs": [],
   "source": [
    "import matplotlib.pyplot as LetsPlot"
   ]
  },
  {
   "cell_type": "markdown",
   "metadata": {
    "id": "Bp0eMJBNiFfr"
   },
   "source": [
    "# Worst-case analysis of Algorithms\n",
    "\n",
    "In which we study the worst-case analysis of algorithms. We will look at several examples of code where we will identify the basic operation and write code to count it. Then, we will plot the count of the basic operation as a function of the input size. Critical to this study are i) the selection of the \"right\" basic operation -- there usually is more than one basic operation and a representation one would suffice; ii) the count should be an estimate in the worst-case (an upper bound on all inputs of a given size).\n",
    "\n",
    "Let's begin with the code that finds the index of the largest element in a list of n numbers. The size of the input is determined by the length of the list, which we denote with `n`. The basic operation we choose is the predicate inside the while loop. The variable `count` is initially set to 0, and for each execution of the predicate, it is incremented by 1. We modify the return value to a 2-tuple `(m, count)` where `m` is the index of the largest element and `count` is the number of times predicate `i < len(a)` is evaluated.\n",
    "\n",
    "Notice that\n",
    "+ if maximum element occurs in two places then the smallest index is returned.\n",
    "+ index `i` starts at 1. We don't have to compare the first element `a[0]` with itself.\n",
    "+ The input `[1,2,3,4,5,6]` is the worst-case input. All the elements are visited before the maximum element `n` is found in the example `max([1,2,3,4,5,6])`."
   ]
  },
  {
   "cell_type": "code",
   "execution_count": 1,
   "metadata": {
    "colab": {
     "base_uri": "https://localhost:8080/"
    },
    "id": "ks6SyEYDj_u1",
    "outputId": "f7c506cd-27ff-4a38-ec9a-ed9e653cd944"
   },
   "outputs": [
    {
     "name": "stdout",
     "output_type": "stream",
     "text": [
      "(5, 5)\n"
     ]
    }
   ],
   "source": [
    "# Input :: a_1, a_2, ..., a_n\n",
    "# Output :: index m such that a_m >= a_i for all i != m\n",
    "# array index starts at 0\n",
    "def max1(a):\n",
    "    m = 0\n",
    "    i = 1\n",
    "    count = 0\n",
    "    while (i < len(a)):\n",
    "        count = count + 1\n",
    "        if (a[i] >= a[m]):\n",
    "            m = i\n",
    "        i = i+1\n",
    "    return (m, count)\n",
    "\n",
    "\n",
    "print(max1([1,2,3,4,5,6]))"
   ]
  },
  {
   "cell_type": "code",
   "execution_count": 4,
   "metadata": {},
   "outputs": [
    {
     "data": {
      "text/plain": [
       "[0, 1, 2, 3, 4, 5, 6, 7, 8, 9]"
      ]
     },
     "execution_count": 4,
     "metadata": {},
     "output_type": "execute_result"
    }
   ],
   "source": [
    "def first_n(n):\n",
    "      num, nums = 0, []\n",
    "      while num < n:\n",
    "         nums.append(num)\n",
    "         num += 1\n",
    "      return nums\n",
    "\n",
    "first_n(10)"
   ]
  },
  {
   "cell_type": "markdown",
   "metadata": {
    "id": "UUw29llMlYU6"
   },
   "source": [
    "## Assignment I\n",
    "\n",
    "Suppose we change the basic operation to `i=i+1`.  Modify the code above to count how often `i=i+1` is executed."
   ]
  },
  {
   "cell_type": "code",
   "execution_count": 15,
   "metadata": {
    "id": "p4HfDkC5iS9D"
   },
   "outputs": [
    {
     "name": "stdout",
     "output_type": "stream",
     "text": [
      "(8, 8, 'i = i+1 was counted: 8 times')\n",
      "(0, 8, 'i = i+1 was counted: 8 times')\n"
     ]
    }
   ],
   "source": [
    "def max2(a):\n",
    "  m = 0\n",
    "  i = 1\n",
    "  count = 0\n",
    "  count2 = 0\n",
    "  while (i < len(a)): \n",
    "    count = count + 1\n",
    "    if (a[i] >= a[m]):\n",
    "      m = i\n",
    "    i = i+1\n",
    "    count2 += 1\n",
    "  return (m, count, \"i = i+1 was counted: \" + str(count2) + \" times\" )\n",
    "\n",
    "\n",
    "print(max2([1,2,3,4,5,6,7,8,9])) # best case\n",
    "print(max2(list(reversed([1,2,3,4,5,6,7,8,9])))) # worse case"
   ]
  },
  {
   "cell_type": "markdown",
   "metadata": {
    "id": "rzhK-aaSnnk8"
   },
   "source": [
    "To plot the count of the basic operation against the input size, we need to execute the `max` function on a list of sizes ranging from 1 to 100. Each list will contain elements 1, 2, 3, ..., n, where n ranges from 1 to 100. This means we will be running 100 experiments by calling the `max` function. The code for executing these experiments can be found below.\n",
    "\n",
    "We are using the list comprehension syntax in python to write this code succintly. Do not worry about the syntax at this point. `range(a,b)` creates a list of numbers `[a,a+1, ..., b-2, b-1]`. If n is in `range(a,b)` then `range(1,n)` creates the list `[1, 2, n-1]`. Suppose `n=a` then the list created by `range(1,n) = range(1,a) = 1, 2, ..., a-1`.  \n",
    "\n",
    "We have also used `[1]` at the end of the call to the `max1` function.\n",
    "Since `max1` returns a 2-tuple, we can extract the `count` by accessing the second element of the tuple using the index `[1]`.\n",
    "\n",
    "The various values of `count` (as a function of the input size) is in the list `ans`. Finally, we plot the list containing `count` using the plot function (from the matplotlib.pyplot) library."
   ]
  },
  {
   "cell_type": "code",
   "execution_count": 21,
   "metadata": {},
   "outputs": [],
   "source": [
    "import matplotlib.pyplot as LetsPlot"
   ]
  },
  {
   "cell_type": "code",
   "execution_count": 43,
   "metadata": {
    "colab": {
     "base_uri": "https://localhost:8080/",
     "height": 447
    },
    "id": "4vZzgx6hmHSp",
    "outputId": "9fb5923a-0537-41f0-ad3c-953b181ed42d"
   },
   "outputs": [
    {
     "data": {
      "text/plain": [
       "[<matplotlib.lines.Line2D at 0x29a6fc9e930>]"
      ]
     },
     "execution_count": 43,
     "metadata": {},
     "output_type": "execute_result"
    },
    {
     "data": {
      "image/png": "[encoded data removed]",
      "text/plain": [
       "<Figure size 640x480 with 1 Axes>"
      ]
     },
     "metadata": {},
     "output_type": "display_data"
    }
   ],
   "source": [
    "ans = [max1(range(1,n))[1] for n in range(2,102)]\n",
    "LetsPlot.plot(ans)"
   ]
  },
  {
   "cell_type": "markdown",
   "metadata": {
    "id": "uw6dlu5iskZy"
   },
   "source": [
    "## Assignment II\n",
    "\n",
    "Now consider the code for linear search that we discussed in the class. The code is shown below. Perform the following tasks:\n",
    "\n",
    "1. Identify a basic operation in this code.\n",
    "2. Modify the code to count the number of times the basic operation is performed.\n",
    "3. Execute the function `find` on inputs [1,..,n] where n varies from 1 to 100, and k=0 to collect the `count` as a function of the input size. The key `k` is not in the input list. These inputs are the worst-case inputs (as all the elements in the list will have to be examined).\n",
    "4. Plot the `count` as a function of `n`."
   ]
  },
  {
   "cell_type": "code",
   "execution_count": null,
   "metadata": {
    "id": "focnpHkrtkfc"
   },
   "outputs": [
    {
     "name": "stdout",
     "output_type": "stream",
     "text": [
      "None\n",
      "(50, 50)\n"
     ]
    }
   ],
   "source": [
    "# modify this code to count the basic operation\n",
    "# the return statement shoulds return a 2-tuple (index, count), so modify them\n",
    "# update count in the \"right\" place\n",
    "\n",
    "def find(a, k):\n",
    "    count = 0\n",
    "    for i in range(1,len(a)):\n",
    "      count += 1\n",
    "      if (a[i] == k):\n",
    "        return (i, count)\n",
    "    return None  #if not found return None\n",
    "\n",
    "print(find(range(0,100), -9))\n",
    "print(find(range(0,100), 50))\n"
   ]
  },
  {
   "cell_type": "code",
   "execution_count": 51,
   "metadata": {
    "id": "-GxdrmiqtzZu"
   },
   "outputs": [
    {
     "data": {
      "image/png": "[encoded data removed]",
      "text/plain": [
       "<Figure size 640x480 with 1 Axes>"
      ]
     },
     "metadata": {},
     "output_type": "display_data"
    }
   ],
   "source": [
    "# use the code from above (modify it) to collect the statistics from function find\n",
    "# and plot the count, for the loop the range should be range(1,100), for find range is range(1,n)\n",
    "#plotval = [find(list(range(1,100)),50)[1] for x in range(1,100) if find(list(range(1,100)), 50) is not None]\n",
    "k = 50\n",
    "n_range = range(1,100)\n",
    "counts = [] # this will act as the x axis in the plot\n",
    "for n in n_range:\n",
    "    result = find(range(1,n),k)\n",
    "    if result is not None:\n",
    "        counts.append(result[1])\n",
    "    else: \n",
    "        counts.append(0)\n",
    "LetsPlot.plot(n_range, counts, marker='o', linestyle='-')\n",
    "LetsPlot.xlabel('List Size')\n",
    "LetsPlot.ylabel('Basic Operation count')\n",
    "LetsPlot.title('Basic Operations Count vs Value in Range for searching k=50 in 1-100')\n",
    "LetsPlot.show() \n",
    "\n"
   ]
  },
  {
   "cell_type": "markdown",
   "metadata": {
    "id": "C39QpVVlu9B2"
   },
   "source": [
    "# Assignment III\n",
    "\n",
    "Consider the code below. It uses two `for` loops that are nested. Perform the following tasks:\n",
    "\n",
    "+ Identify the basic operation.\n",
    "+ Identify the input size.\n",
    "+ Modify the code to count the number of basic operations.\n",
    "+ Plot the `count` as a function of the input size.\n",
    "+ What conclusions can you draw from the plot, write your answer in prose form below.\n",
    "\n"
   ]
  },
  {
   "cell_type": "code",
   "execution_count": 24,
   "metadata": {
    "id": "RAYcMMREu9xD"
   },
   "outputs": [
    {
     "name": "stdout",
     "output_type": "stream",
     "text": [
      "1 - 2\n",
      "1 - 3\n",
      "2 - 1\n",
      "2 - 3\n",
      "3 - 1\n",
      "3 - 2\n",
      "None\n"
     ]
    }
   ],
   "source": [
    "# modify this code to count the basic operation\n",
    "# the return statement shoulds return the count\n",
    "# update count in the \"right\" place\n",
    "\n",
    "def nested(n):\n",
    "  for i in range(1,n):\n",
    "    for j in range(1,n):\n",
    "      if (i!=j):\n",
    "        print(i,\"-\",j)\n",
    "  return\n",
    "\n",
    "print(nested(4))"
   ]
  },
  {
   "cell_type": "code",
   "execution_count": null,
   "metadata": {
    "id": "ERxL-_c4v7bV"
   },
   "outputs": [],
   "source": [
    "# write the code for collecting the stats and plotting the count in this cell\n",
    "# nested only returns count value, and use the range(10) while plotting\n"
   ]
  },
  {
   "cell_type": "markdown",
   "metadata": {
    "id": "gQVgjX4iXe9r"
   },
   "source": [
    "###Conclusions:\n",
    "**What are the differences observable between the plots of Assignment II and Assignment III? Explain these differences in terms of time complexity.**\n",
    "\n",
    "*write your answer below*"
   ]
  }
 ],
 "metadata": {
  "colab": {
   "include_colab_link": true,
   "provenance": []
  },
  "kernelspec": {
   "display_name": "Python 3",
   "name": "python3"
  },
  "language_info": {
   "codemirror_mode": {
    "name": "ipython",
    "version": 3
   },
   "file_extension": ".py",
   "mimetype": "text/x-python",
   "name": "python",
   "nbconvert_exporter": "python",
   "pygments_lexer": "ipython3",
   "version": "3.12.6"
  }
 },
 "nbformat": 4,
 "nbformat_minor": 0
}
