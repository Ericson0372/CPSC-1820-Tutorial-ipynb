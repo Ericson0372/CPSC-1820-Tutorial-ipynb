{
  "nbformat": 4,
  "nbformat_minor": 0,
  "metadata": {
    "colab": {
      "provenance": [],
      "include_colab_link": true
    },
    "kernelspec": {
      "name": "python3",
      "display_name": "Python 3"
    },
    "language_info": {
      "name": "python"
    }
  },
  "cells": [
    {
      "cell_type": "markdown",
      "metadata": {
        "id": "view-in-github",
        "colab_type": "text"
      },
      "source": [
        "<a href=\"https://colab.research.google.com/github/Ericson0372/CPSC-1820-Tutorial-ipynb/blob/main/Fall_2024_CPSC_1820_Tutorial_07.ipynb\" target=\"_parent\"><img src=\"https://colab.research.google.com/assets/colab-badge.svg\" alt=\"Open In Colab\"/></a>"
      ]
    },
    {
      "cell_type": "code",
      "source": [
        "import matplotlib.pyplot as LetsPlot"
      ],
      "metadata": {
        "id": "NiO_7gQUrXpU"
      },
      "execution_count": null,
      "outputs": []
    },
    {
      "cell_type": "markdown",
      "source": [
        "# Worst-case analysis of Algorithms\n",
        "\n",
        "In which we study the worst-case analysis of algorithms. We will look at several examples of code where we will identify the basic operation and write code to count it. Then, we will plot the count of the basic operation as a function of the input size. Critical to this study are i) the selection of the \"right\" basic operation -- there usually is more than one basic operation and a representation one would suffice; ii) the count should be an estimate in the worst-case (an upper bound on all inputs of a given size).\n",
        "\n",
        "Let's begin with the code that finds the index of the largest element in a list of n numbers. The size of the input is determined by the length of the list, which we denote with `n`. The basic operation we choose is the predicate inside the while loop. The variable `count` is initially set to 0, and for each execution of the predicate, it is incremented by 1. We modify the return value to a 2-tuple `(m, count)` where `m` is the index of the largest element and `count` is the number of times predicate `i < len(a)` is evaluated.\n",
        "\n",
        "Notice that\n",
        "+ if maximum element occurs in two places then the smallest index is returned.\n",
        "+ index `i` starts at 1. We don't have to compare the first element `a[0]` with itself.\n",
        "+ The input `[1,2,3,4,5,6]` is the worst-case input. All the elements are visited before the maximum element `n` is found in the example `max([1,2,3,4,5,6])`."
      ],
      "metadata": {
        "id": "Bp0eMJBNiFfr"
      }
    },
    {
      "cell_type": "code",
      "source": [
        "# Input :: a_1, a_2, ..., a_n\n",
        "# Output :: index m such that a_m >= a_i for all i != m\n",
        "# array index starts at 0\n",
        "def max1(a):\n",
        "    m = 0\n",
        "    i = 1\n",
        "    count = 0\n",
        "    while (i < len(a)):\n",
        "        count = count + 1\n",
        "        if (a[i] > a[m]):\n",
        "            m = i\n",
        "        i = i+1\n",
        "    return (m, count)\n",
        "\n",
        "\n",
        "print(max1([1,2,3,4,5,6]))"
      ],
      "metadata": {
        "colab": {
          "base_uri": "https://localhost:8080/"
        },
        "id": "ks6SyEYDj_u1",
        "outputId": "f7c506cd-27ff-4a38-ec9a-ed9e653cd944"
      },
      "execution_count": null,
      "outputs": [
        {
          "output_type": "stream",
          "name": "stdout",
          "text": [
            "(5, 5)\n"
          ]
        }
      ]
    },
    {
      "cell_type": "markdown",
      "source": [
        "## Assignment I\n",
        "\n",
        "Suppose we change the basic operation to `i=i+1`.  Modify the code above to count how often `i=i+1` is executed."
      ],
      "metadata": {
        "id": "UUw29llMlYU6"
      }
    },
    {
      "cell_type": "code",
      "source": [
        "def max2(a):\n",
        "# write your code here\n",
        "  return\n",
        "\n",
        "print(max2([1,2,3,4,5,6,7,8,9]))"
      ],
      "metadata": {
        "id": "p4HfDkC5iS9D"
      },
      "execution_count": null,
      "outputs": []
    },
    {
      "cell_type": "markdown",
      "source": [
        "To plot the count of the basic operation against the input size, we need to execute the `max` function on a list of sizes ranging from 1 to 100. Each list will contain elements 1, 2, 3, ..., n, where n ranges from 1 to 100. This means we will be running 100 experiments by calling the `max` function. The code for executing these experiments can be found below.\n",
        "\n",
        "We are using the list comprehension syntax in python to write this code succintly. Do not worry about the syntax at this point. `range(a,b)` creates a list of numbers `[a,a+1, ..., b-2, b-1]`. If n is in `range(a,b)` then `range(1,n)` creates the list `[1, 2, n-1]`. Suppose `n=a` then the list created by `range(1,n) = range(1,a) = 1, 2, ..., a-1`.  \n",
        "\n",
        "We have also used `[1]` at the end of the call to the `max1` function.\n",
        "Since `max1` returns a 2-tuple, we can extract the `count` by accessing the second element of the tuple using the index `[1]`.\n",
        "\n",
        "The various values of `count` (as a function of the input size) is in the list `ans`. Finally, we plot the list containing `count` using the plot function (from the matplotlib.pyplot) library."
      ],
      "metadata": {
        "id": "rzhK-aaSnnk8"
      }
    },
    {
      "cell_type": "code",
      "source": [
        "ans = [max1(range(1,n))[1] for n in range(2,102)]\n",
        "LetsPlot.plot(ans)"
      ],
      "metadata": {
        "colab": {
          "base_uri": "https://localhost:8080/",
          "height": 447
        },
        "id": "4vZzgx6hmHSp",
        "outputId": "9fb5923a-0537-41f0-ad3c-953b181ed42d"
      },
      "execution_count": null,
      "outputs": [
        {
          "output_type": "execute_result",
          "data": {
            "text/plain": [
              "[<matplotlib.lines.Line2D at 0x7bde1361ca00>]"
            ]
          },
          "metadata": {},
          "execution_count": 9
        },
        {
          "output_type": "display_data",
          "data": {
            "text/plain": [
              "<Figure size 640x480 with 1 Axes>"
            ],
            "image/png": "[encoded data removed]"
          },
          "metadata": {}
        }
      ]
    },
    {
      "cell_type": "markdown",
      "source": [
        "## Assignment II\n",
        "\n",
        "Now consider the code for linear search that we discussed in the class. The code is shown below. Perform the following tasks:\n",
        "\n",
        "1. Identify a basic operation in this code.\n",
        "2. Modify the code to count the number of times the basic operation is performed.\n",
        "3. Execute the function `find` on inputs [1,..,n] where n varies from 1 to 100, and k=0 to collect the `count` as a function of the input size. The key `k` is not in the input list. These inputs are the worst-case inputs (as all the elements in the list will have to be examined).\n",
        "4. Plot the `count` as a function of `n`."
      ],
      "metadata": {
        "id": "uw6dlu5iskZy"
      }
    },
    {
      "cell_type": "code",
      "source": [
        "# modify this code to count the basic operation\n",
        "# the return statement shoulds return a 2-tuple (index, count), so modify them\n",
        "# update count in the \"right\" place\n",
        "\n",
        "def find(a, k):\n",
        "    for i in range(0,len(a)):\n",
        "      if (a[i] == k):\n",
        "        return\n",
        "    return None  #if not found return None\n",
        "\n",
        "print(find(range(0,100), -9))"
      ],
      "metadata": {
        "id": "focnpHkrtkfc"
      },
      "execution_count": null,
      "outputs": []
    },
    {
      "cell_type": "code",
      "source": [
        "# use the code from above (modify it) to collect the statistics from function find\n",
        "# and plot the count, for the loop the range should be range(1,100), for find range is range(1,n)\n",
        "\n"
      ],
      "metadata": {
        "id": "-GxdrmiqtzZu"
      },
      "execution_count": null,
      "outputs": []
    },
    {
      "cell_type": "markdown",
      "source": [
        "# Assignment III\n",
        "\n",
        "Consider the code below. It uses two `for` loops that are nested. Perform the following tasks:\n",
        "\n",
        "+ Identify the basic operation.\n",
        "+ Identify the input size.\n",
        "+ Modify the code to count the number of basic operations.\n",
        "+ Plot the `count` as a function of the input size.\n",
        "+ What conclusions can you draw from the plot, write your answer in prose form below.\n",
        "\n"
      ],
      "metadata": {
        "id": "C39QpVVlu9B2"
      }
    },
    {
      "cell_type": "code",
      "source": [
        "# modify this code to count the basic operation\n",
        "# the return statement shoulds return the count\n",
        "# update count in the \"right\" place\n",
        "\n",
        "def nested(n):\n",
        "  for i in range(1,n):\n",
        "    for j in range(1,n):\n",
        "      if (i!=j):\n",
        "        print(i,\"-\",j)\n",
        "  return\n",
        "\n",
        "print(nested(4))"
      ],
      "metadata": {
        "id": "RAYcMMREu9xD"
      },
      "execution_count": null,
      "outputs": []
    },
    {
      "cell_type": "code",
      "source": [
        "# write the code for collecting the stats and plotting the count in this cell\n",
        "# nested only returns count value, and use the range(10) while plotting\n"
      ],
      "metadata": {
        "id": "ERxL-_c4v7bV"
      },
      "execution_count": null,
      "outputs": []
    },
    {
      "cell_type": "markdown",
      "source": [
        "###Conclusions:\n",
        "**What are the differences observable between the plots of Assignment II and Assignment III? Explain these differences in terms of time complexity.**\n",
        "\n",
        "*write your answer below*"
      ],
      "metadata": {
        "id": "gQVgjX4iXe9r"
      }
    }
  ]
}