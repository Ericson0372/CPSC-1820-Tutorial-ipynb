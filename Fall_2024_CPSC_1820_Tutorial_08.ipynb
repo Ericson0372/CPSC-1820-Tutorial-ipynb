{
 "cells": [
  {
   "cell_type": "markdown",
   "metadata": {
    "colab_type": "text",
    "id": "view-in-github"
   },
   "source": [
    "<a href=\"https://colab.research.google.com/github/Ericson0372/CPSC-1820-Tutorial-ipynb/blob/main/Fall_2024_CPSC_1820_Tutorial_08.ipynb\" target=\"_parent\"><img src=\"https://colab.research.google.com/assets/colab-badge.svg\" alt=\"Open In Colab\"/></a>"
   ]
  },
  {
   "cell_type": "markdown",
   "metadata": {
    "id": "wgqi4QY2qvDf"
   },
   "source": [
    "## Recursion\n",
    "\n",
    "We will see how induction and recursive definitions (in Chapter 7) relate to programming. We will illustrate this on three problems.\n",
    "\n",
    "+ Finding the maximum in a sequence\n",
    "+ Compute the factorial\n",
    "+ computing the $n^{th}$entry in the Fibonacci sequence\n",
    "\n",
    "We will also analyze all the three algorithms. This time, the analysis will be theoretical. We will not write a program to count the basic operation. Instead, we will estimate it.\n",
    "\n",
    "## Problem 1\n",
    "\n",
    "Sequence $[a_0, a_1, a_2, a_3]$ is represented in Python as a list. To access the first element $a_0$ stored in position 0, we use `a[0]`. Similarly, `a[i]` gives us the element in position `i` in the sequence `a`.\n",
    "\n",
    "Let's say we have a sequence `a = [a_0, a_1, a_2, a_3]`. The maximum element in this sequence needs to be determined.\n",
    "\n",
    "The tail of sequence `a` is represented as $[a_1, a_2, a_3]$, which is `a` without the first element.\n",
    "\n",
    "The recursive way to find the maximum element is as follows:\n",
    "\n",
    "- Base Case: If the number of elements in the sequence is 1, then `a[0]` is the maximum element, and we return it as such.\n",
    "- Recursive Definition: Find the maximum in the tail of `a`. Compare it with `a[0]` and return the larger of the two numbers as the maximum.\n",
    "\n",
    "The code below performs these two steps.\n",
    "\n"
   ]
  },
  {
   "cell_type": "code",
   "execution_count": 1,
   "metadata": {
    "colab": {
     "base_uri": "https://localhost:8080/"
    },
    "id": "YQxMusmdryoI",
    "outputId": "c55f8138-9809-47bb-8565-4deb124f3cd6"
   },
   "outputs": [
    {
     "data": {
      "text/plain": [
       "4"
      ]
     },
     "execution_count": 1,
     "metadata": {},
     "output_type": "execute_result"
    }
   ],
   "source": [
    "a = [1,2,-3,4,4,-5]\n",
    "\n",
    "def mmax(a):\n",
    "  if len(a) == 1 :\n",
    "    return a[0]\n",
    "  m = mmax(a[1:])              # a[1:] is the tail of a\n",
    "  if (m > a[0]) :\n",
    "    return m\n",
    "  else :\n",
    "    return a[0]\n",
    "\n",
    "mmax(a)"
   ]
  },
  {
   "cell_type": "markdown",
   "metadata": {
    "id": "cfQwkYVWtmmd"
   },
   "source": [
    "**Activity 1:**\n",
    "\n",
    "Your task is to modify the code below to return the index of the largest element. If the maximum value occurs in more than one place, you should return the smallest index. Refer to the slides for hints."
   ]
  },
  {
   "cell_type": "code",
   "execution_count": null,
   "metadata": {
    "colab": {
     "base_uri": "https://localhost:8080/"
    },
    "id": "8qjNd8FZIOxc",
    "outputId": "b145bc5c-b037-4c82-b282-62cb3c9ebf2d"
   },
   "outputs": [
    {
     "name": "stdout",
     "output_type": "stream",
     "text": [
      "index of the maximum value is  3\n"
     ]
    }
   ],
   "source": [
    "a = [1, 2, -3, 4, 4, -5]\n",
    "\n",
    "def mmax_index(a, index=0, maxIndex=0):\n",
    "    if index == len(a):\n",
    "        return maxIndex\n",
    "\n",
    "    if a[index] > a[maxIndex]:\n",
    "        return \n",
    "      #Update the maxIndex and modify the return with the call of the function with updated index \n",
    "    return None\n",
    "\n",
    "max_index = mmax_index(a, 0, 0)\n",
    "print(\"index of the maximum value is \" , max_index)"
   ]
  },
  {
   "cell_type": "markdown",
   "metadata": {
    "id": "lC0V3T1zIPZy"
   },
   "source": [
    "**Identify a basic operation and estimate how many times it is performed as a function of the input size (which is the length of the sequence).**"
   ]
  },
  {
   "cell_type": "markdown",
   "metadata": {
    "id": "QigZ9UtuIxbU"
   },
   "source": [
    "**Answer: Please provide your answer in the space below.**\n"
   ]
  },
  {
   "cell_type": "markdown",
   "metadata": {
    "id": "8ZQWplFlv4iN"
   },
   "source": [
    "## Problem 2\n",
    "\n",
    "Factorial of $n$ is defined as:\n",
    "\n",
    "$$ n! = n(n-1)(n-2) \\ldots 3*2*1 $$\n",
    "\n",
    "Let `Factorial(n)` be the function that returns the factorial of $n$. The recursive definition of `Factorial` is as follows:\n",
    "\n",
    "- Base Case: If $n=1$ or $n=0$, then `Factorial(n) = 1`.\n",
    "- Recursive Step: If $n \\geq 2$, then `Factorial(n) = n * Factorial(n-1)`.\n",
    "\n",
    "The code to calculate the factorial of a number is shown below.\n",
    "\n"
   ]
  },
  {
   "cell_type": "code",
   "execution_count": null,
   "metadata": {
    "colab": {
     "base_uri": "https://localhost:8080/"
    },
    "id": "lqW3Vay_sDtH",
    "outputId": "b7d281ff-6bee-4e37-cebf-667389edbee4"
   },
   "outputs": [
    {
     "name": "stdout",
     "output_type": "stream",
     "text": [
      "120\n"
     ]
    }
   ],
   "source": [
    "def Factorial(n):\n",
    "  if (n == 0 or n==1) :\n",
    "    return 1\n",
    "  return n * Factorial(n-1)\n",
    "\n",
    "print(Factorial(5))\n"
   ]
  },
  {
   "cell_type": "markdown",
   "metadata": {
    "id": "nzMIMofiyDF-"
   },
   "source": [
    "**Activity 2:**\n",
    "\n",
    "**Identify a basic operation and estimate how many times it is performed as a function of the input size (which is the length of the sequence).**"
   ]
  },
  {
   "cell_type": "markdown",
   "metadata": {
    "id": "d2XiNTQ4bjHv"
   },
   "source": [
    "\n",
    "**Answer: Please provide your answer in the space below.**\n"
   ]
  },
  {
   "cell_type": "markdown",
   "metadata": {
    "id": "zIM8UEjdxs2o"
   },
   "source": [
    "\n",
    "## Problem 3\n",
    "\n",
    "The Fibonacci sequence is a series of numbers in which each number is the sum of the two preceding ones. The first two numbers are both 1. The sequence starts with [1, 1] and continues with [2, 3, 5, 8, 13, 21, ...]. Let's assume the indices start at 0. A function called `Fib(n)` returns the $n^{th}$ number in the Fibonacci sequence, where `Fib(0) = Fib(1) = 1` and `Fib(1) = 2`, and so on.\n",
    "\n",
    "The `Fib` function can be defined recursively as follows:\n",
    "\n",
    "- Base Case: If `n == 0 or n == 1`, then `Fib(n) = 1`.\n",
    "- Recursive Definition: If `n >= 2`, then `Fib(n) = Fib(n-1) + Fib(n-2)`.\n",
    "\n",
    "The above recursive definition is implemented in the code below. However, please note that running this code for a large value of `n` can be inefficient and may cause your notebook to stop responding. It could even crash the notebook kernel/server, and you may need to restart it.\n",
    "\n"
   ]
  },
  {
   "cell_type": "code",
   "execution_count": null,
   "metadata": {
    "colab": {
     "base_uri": "https://localhost:8080/"
    },
    "id": "BM9VEegRxI7u",
    "outputId": "03c7e6e4-33da-4053-ddb4-9984e2fb594f"
   },
   "outputs": [
    {
     "data": {
      "text/plain": [
       "8"
      ]
     },
     "execution_count": 3,
     "metadata": {},
     "output_type": "execute_result"
    }
   ],
   "source": [
    "def Fib(n) :\n",
    "  if (n == 0 or n ==1):\n",
    "    return 1\n",
    "  return Fib(n-1) + Fib(n-2)\n",
    "\n",
    "Fib(5)"
   ]
  },
  {
   "cell_type": "markdown",
   "metadata": {
    "id": "vM2ND4G1y2mh"
   },
   "source": [
    "**Activity 3:**\n",
    "\n",
    "\n",
    "**The addition operation `+` in the recursive definition `Fib(n) = Fib(n-1) + Fib(n-2)` is the basic operation. Your task is to estimate the number of times this basic operation is performed based on the input size (which is the length of the sequence).**"
   ]
  },
  {
   "cell_type": "markdown",
   "metadata": {
    "id": "nDugrngNbmWd"
   },
   "source": [
    "\n",
    "**Answer: Please provide your solution here.**\n",
    "\n"
   ]
  },
  {
   "cell_type": "markdown",
   "metadata": {
    "id": "OwJTacmny7bs"
   },
   "source": [
    "**Activity 4:**\n",
    "\n",
    "Modify this code to use a list of size `n` to compute `Fib(n)`. Hint: Use a single `for` loop and compute the values iteratively in the increasing order of the index in the Fibonacci sequence."
   ]
  },
  {
   "cell_type": "code",
   "execution_count": null,
   "metadata": {
    "colab": {
     "base_uri": "https://localhost:8080/"
    },
    "id": "T4wmcRx6zPt0",
    "outputId": "2b2999a0-ea28-48ad-bb92-3bc3ba6675c4"
   },
   "outputs": [
    {
     "name": "stdout",
     "output_type": "stream",
     "text": [
      "[1, 1, 2, 3, 5, 8, 13, 21, 34]\n"
     ]
    }
   ],
   "source": [
    "#write your code here\n",
    "def Fib2(n, array):\n",
    "    #create the loop till n+1 to include the number itself and populate the array\n",
    "    return None\n",
    "\n",
    "fibList = []\n",
    "Fib2(8, fibList)\n",
    "print(fibList)"
   ]
  }
 ],
 "metadata": {
  "colab": {
   "include_colab_link": true,
   "provenance": []
  },
  "kernelspec": {
   "display_name": "Python 3",
   "name": "python3"
  },
  "language_info": {
   "codemirror_mode": {
    "name": "ipython",
    "version": 3
   },
   "file_extension": ".py",
   "mimetype": "text/x-python",
   "name": "python",
   "nbconvert_exporter": "python",
   "pygments_lexer": "ipython3",
   "version": "3.12.6"
  }
 },
 "nbformat": 4,
 "nbformat_minor": 0
}
